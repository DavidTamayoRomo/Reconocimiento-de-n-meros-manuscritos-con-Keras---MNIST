{
 "cells": [
  {
   "cell_type": "code",
   "execution_count": 73,
   "metadata": {},
   "outputs": [],
   "source": [
    "# Importaciones para manejo de matrices y trazado.\n",
    "import numpy as np\n",
    "import matplotlib\n",
    "matplotlib.use('agg')\n",
    "import matplotlib.pyplot as plt\n",
    "\n",
    "# vamos a mantener nuestras keras backend tensorflow \n",
    "import os\n",
    "#os.environ['TF_CPP_MIN_LOG_LEVEL']='3'\n",
    "# sobre el CPU\n",
    "os.environ['CUDA_VISIBLE_DEVICES'] = ''\n",
    "\n",
    "# Keras importa para el conjunto de datos y construye nuestra red neuronal.\n",
    "from keras.datasets import mnist\n",
    "from keras.models import Sequential, load_model\n",
    "from keras.layers.core import Dense, Dropout, Activation\n",
    "from keras.utils import np_utils"
   ]
  },
  {
   "cell_type": "code",
   "execution_count": 74,
   "metadata": {},
   "outputs": [],
   "source": [
    "(X_train, y_train), (X_test, y_test) = mnist.load_data()"
   ]
  },
  {
   "cell_type": "code",
   "execution_count": 75,
   "metadata": {},
   "outputs": [
    {
     "data": {
      "image/png": "[encoded data removed]",
      "text/plain": [
       "<Figure size 432x288 with 9 Axes>"
      ]
     },
     "execution_count": 75,
     "metadata": {},
     "output_type": "execute_result"
    },
    {
     "data": {
      "image/png": "[encoded data removed]",
      "text/plain": [
       "<Figure size 432x288 with 9 Axes>"
      ]
     },
     "metadata": {},
     "output_type": "display_data"
    }
   ],
   "source": [
    "%matplotlib inline\n",
    "fig = plt.figure()\n",
    "for i in range(9):\n",
    "  plt.subplot(3,3,i+1)\n",
    "  plt.tight_layout()\n",
    "  plt.imshow(X_train[i], cmap='gray', interpolation='none')\n",
    "  plt.title(\"Digito: {}\".format(y_train[i]))\n",
    "  plt.xticks([])\n",
    "  plt.yticks([])\n",
    "fig"
   ]
  },
  {
   "cell_type": "code",
   "execution_count": 76,
   "metadata": {},
   "outputs": [
    {
     "data": {
      "text/plain": [
       "Text(0.5, 1.0, 'Digito: 5')"
      ]
     },
     "execution_count": 76,
     "metadata": {},
     "output_type": "execute_result"
    },
    {
     "data": {
      "image/png": "[encoded data removed]",
      "text/plain": [
       "<Figure size 432x288 with 1 Axes>"
      ]
     },
     "metadata": {
      "needs_background": "light"
     },
     "output_type": "display_data"
    }
   ],
   "source": [
    "fig = plt.figure()\n",
    "plt.subplot(2,1,1)\n",
    "plt.imshow(X_train[0], cmap='gray', interpolation='none')\n",
    "plt.title(\"Digito: {}\".format(y_train[0]))\n",
    "\n",
    "\n"
   ]
  },
  {
   "cell_type": "code",
   "execution_count": 77,
   "metadata": {},
   "outputs": [
    {
     "name": "stdout",
     "output_type": "stream",
     "text": [
      "X_train shape (60000, 28, 28)\n",
      "y_train shape (60000,)\n",
      "X_test shape (10000, 28, 28)\n",
      "y_test shape (10000,)\n",
      "Train matrix shape (60000, 784)\n",
      "Test matrix shape (10000, 784)\n"
     ]
    }
   ],
   "source": [
    "# imprimamos la forma antes de remodelar y normalizar\n",
    "print(\"X_train shape\", X_train.shape)\n",
    "print(\"y_train shape\", y_train.shape)\n",
    "print(\"X_test shape\", X_test.shape)\n",
    "print(\"y_test shape\", y_test.shape)\n",
    "\n",
    "# Construyendo el vector de entrada a partir de los 28x28 píxeles.\n",
    "X_train = X_train.reshape(60000, 784)\n",
    "X_test = X_test.reshape(10000, 784)\n",
    "X_train = X_train.astype('float32')\n",
    "X_test = X_test.astype('float32')\n",
    "\n",
    "# Normalizando los datos para ayudar con el entrenamiento.\n",
    "X_train /= 255\n",
    "X_test /= 255\n",
    "\n",
    "# imprimir la forma de entrada final listo para el entrenamiento\n",
    "print(\"Train matrix shape\", X_train.shape)\n",
    "print(\"Test matrix shape\", X_test.shape)"
   ]
  },
  {
   "cell_type": "code",
   "execution_count": 78,
   "metadata": {},
   "outputs": [
    {
     "name": "stdout",
     "output_type": "stream",
     "text": [
      "(array([0, 1, 2, 3, 4, 5, 6, 7, 8, 9], dtype=uint8), array([5923, 6742, 5958, 6131, 5842, 5421, 5918, 6265, 5851, 5949],\n",
      "      dtype=int64))\n"
     ]
    }
   ],
   "source": [
    "print(np.unique(y_train, return_counts=True))"
   ]
  },
  {
   "cell_type": "code",
   "execution_count": 79,
   "metadata": {},
   "outputs": [
    {
     "name": "stdout",
     "output_type": "stream",
     "text": [
      "Forma antes de una codificación:  (60000,)\n",
      "Despues de codificar:  (60000, 10)\n"
     ]
    }
   ],
   "source": [
    "# Codificación de un solo uso de las utilidades relacionadas con el número de keras\n",
    "n_classes = 10\n",
    "print(\"Forma antes de una codificación: \", y_train.shape)\n",
    "Y_train = np_utils.to_categorical(y_train, n_classes)\n",
    "Y_test = np_utils.to_categorical(y_test, n_classes)\n",
    "print(\"Despues de codificar: \", Y_train.shape)"
   ]
  },
  {
   "cell_type": "code",
   "execution_count": 80,
   "metadata": {},
   "outputs": [],
   "source": [
    "# Construyendo una pila lineal de capas con el modelo secuencial.\n",
    "model = Sequential()\n",
    "model.add(Dense(512, input_shape=(784,)))\n",
    "model.add(Activation('relu'))                            \n",
    "model.add(Dropout(0.2))\n",
    "\n",
    "model.add(Dense(512))\n",
    "model.add(Activation('relu'))\n",
    "model.add(Dropout(0.2))\n",
    "\n",
    "model.add(Dense(10))\n",
    "model.add(Activation('softmax'))"
   ]
  },
  {
   "cell_type": "code",
   "execution_count": 81,
   "metadata": {},
   "outputs": [],
   "source": [
    "# compilando el modelo secuencial\n",
    "model.compile(loss='categorical_crossentropy', metrics=['accuracy'], optimizer='adam')"
   ]
  },
  {
   "cell_type": "code",
   "execution_count": 82,
   "metadata": {},
   "outputs": [
    {
     "name": "stdout",
     "output_type": "stream",
     "text": [
      "Train on 60000 samples, validate on 10000 samples\n",
      "Epoch 1/100\n",
      " - 8s - loss: 0.2502 - acc: 0.9245 - val_loss: 0.1089 - val_acc: 0.9668\n",
      "Epoch 2/100\n",
      " - 6s - loss: 0.1033 - acc: 0.9681 - val_loss: 0.0782 - val_acc: 0.9761\n",
      "Epoch 3/100\n",
      " - 6s - loss: 0.0730 - acc: 0.9775 - val_loss: 0.0707 - val_acc: 0.9783\n",
      "Epoch 4/100\n",
      " - 6s - loss: 0.0564 - acc: 0.9817 - val_loss: 0.0679 - val_acc: 0.9804\n",
      "Epoch 5/100\n",
      " - 6s - loss: 0.0469 - acc: 0.9851 - val_loss: 0.0692 - val_acc: 0.9791\n",
      "Epoch 6/100\n",
      " - 6s - loss: 0.0390 - acc: 0.9874 - val_loss: 0.0621 - val_acc: 0.9821\n",
      "Epoch 7/100\n",
      " - 6s - loss: 0.0337 - acc: 0.9891 - val_loss: 0.0798 - val_acc: 0.9798\n",
      "Epoch 8/100\n",
      " - 6s - loss: 0.0307 - acc: 0.9899 - val_loss: 0.0579 - val_acc: 0.9834\n",
      "Epoch 9/100\n",
      " - 6s - loss: 0.0280 - acc: 0.9909 - val_loss: 0.0687 - val_acc: 0.9819\n",
      "Epoch 10/100\n",
      " - 6s - loss: 0.0260 - acc: 0.9912 - val_loss: 0.0688 - val_acc: 0.9812\n",
      "Epoch 11/100\n",
      " - 6s - loss: 0.0244 - acc: 0.9918 - val_loss: 0.0656 - val_acc: 0.9830\n",
      "Epoch 12/100\n",
      " - 7s - loss: 0.0223 - acc: 0.9928 - val_loss: 0.0746 - val_acc: 0.9810\n",
      "Epoch 13/100\n",
      " - 7s - loss: 0.0196 - acc: 0.9937 - val_loss: 0.0676 - val_acc: 0.9829\n",
      "Epoch 14/100\n",
      " - 6s - loss: 0.0207 - acc: 0.9931 - val_loss: 0.0728 - val_acc: 0.9813\n",
      "Epoch 15/100\n",
      " - 7s - loss: 0.0174 - acc: 0.9942 - val_loss: 0.0656 - val_acc: 0.9836\n",
      "Epoch 16/100\n",
      " - 6s - loss: 0.0178 - acc: 0.9941 - val_loss: 0.0771 - val_acc: 0.9816\n",
      "Epoch 17/100\n",
      " - 6s - loss: 0.0188 - acc: 0.9939 - val_loss: 0.0795 - val_acc: 0.9809\n",
      "Epoch 18/100\n",
      " - 6s - loss: 0.0162 - acc: 0.9944 - val_loss: 0.0773 - val_acc: 0.9839\n",
      "Epoch 19/100\n",
      " - 6s - loss: 0.0142 - acc: 0.9954 - val_loss: 0.0810 - val_acc: 0.9825\n",
      "Epoch 20/100\n",
      " - 7s - loss: 0.0173 - acc: 0.9944 - val_loss: 0.0744 - val_acc: 0.9847\n",
      "Epoch 21/100\n",
      " - 7s - loss: 0.0161 - acc: 0.9950 - val_loss: 0.0732 - val_acc: 0.9835\n",
      "Epoch 22/100\n",
      " - 7s - loss: 0.0143 - acc: 0.9957 - val_loss: 0.0792 - val_acc: 0.9845\n",
      "Epoch 23/100\n",
      " - 7s - loss: 0.0139 - acc: 0.9954 - val_loss: 0.0789 - val_acc: 0.9831\n",
      "Epoch 24/100\n",
      " - 6s - loss: 0.0148 - acc: 0.9950 - val_loss: 0.0885 - val_acc: 0.9832\n",
      "Epoch 25/100\n",
      " - 8s - loss: 0.0142 - acc: 0.9954 - val_loss: 0.0797 - val_acc: 0.9840\n",
      "Epoch 26/100\n",
      " - 8s - loss: 0.0143 - acc: 0.9957 - val_loss: 0.0748 - val_acc: 0.9859\n",
      "Epoch 27/100\n",
      " - 8s - loss: 0.0132 - acc: 0.9956 - val_loss: 0.0834 - val_acc: 0.9830\n",
      "Epoch 28/100\n",
      " - 7s - loss: 0.0109 - acc: 0.9965 - val_loss: 0.0784 - val_acc: 0.9844\n",
      "Epoch 29/100\n",
      " - 7s - loss: 0.0120 - acc: 0.9962 - val_loss: 0.0901 - val_acc: 0.9831\n",
      "Epoch 30/100\n",
      " - 6s - loss: 0.0121 - acc: 0.9963 - val_loss: 0.0837 - val_acc: 0.9850\n",
      "Epoch 31/100\n",
      " - 7s - loss: 0.0093 - acc: 0.9970 - val_loss: 0.0753 - val_acc: 0.9847\n",
      "Epoch 32/100\n",
      " - 7s - loss: 0.0110 - acc: 0.9966 - val_loss: 0.0903 - val_acc: 0.9824\n",
      "Epoch 33/100\n",
      " - 7s - loss: 0.0107 - acc: 0.9969 - val_loss: 0.0909 - val_acc: 0.9838\n",
      "Epoch 34/100\n",
      " - 7s - loss: 0.0140 - acc: 0.9960 - val_loss: 0.0849 - val_acc: 0.9835\n",
      "Epoch 35/100\n",
      " - 6s - loss: 0.0105 - acc: 0.9967 - val_loss: 0.1021 - val_acc: 0.9818\n",
      "Epoch 36/100\n",
      " - 7s - loss: 0.0103 - acc: 0.9972 - val_loss: 0.0853 - val_acc: 0.9851\n",
      "Epoch 37/100\n",
      " - 8s - loss: 0.0088 - acc: 0.9972 - val_loss: 0.0830 - val_acc: 0.9848\n",
      "Epoch 38/100\n",
      " - 7s - loss: 0.0137 - acc: 0.9962 - val_loss: 0.0913 - val_acc: 0.9820\n",
      "Epoch 39/100\n",
      " - 7s - loss: 0.0102 - acc: 0.9969 - val_loss: 0.0846 - val_acc: 0.9843\n",
      "Epoch 40/100\n",
      " - 10s - loss: 0.0100 - acc: 0.9973 - val_loss: 0.0847 - val_acc: 0.9844\n",
      "Epoch 41/100\n",
      " - 9s - loss: 0.0112 - acc: 0.9967 - val_loss: 0.0979 - val_acc: 0.9833\n",
      "Epoch 42/100\n",
      " - 9s - loss: 0.0125 - acc: 0.9962 - val_loss: 0.0875 - val_acc: 0.9845\n",
      "Epoch 43/100\n",
      " - 8s - loss: 0.0098 - acc: 0.9971 - val_loss: 0.0877 - val_acc: 0.9837\n",
      "Epoch 44/100\n",
      " - 8s - loss: 0.0111 - acc: 0.9969 - val_loss: 0.0947 - val_acc: 0.9829\n",
      "Epoch 45/100\n",
      " - 8s - loss: 0.0087 - acc: 0.9973 - val_loss: 0.0809 - val_acc: 0.9860\n",
      "Epoch 46/100\n",
      " - 9s - loss: 0.0099 - acc: 0.9969 - val_loss: 0.0823 - val_acc: 0.9856\n",
      "Epoch 47/100\n",
      " - 7s - loss: 0.0091 - acc: 0.9973 - val_loss: 0.0884 - val_acc: 0.9846\n",
      "Epoch 48/100\n",
      " - 7s - loss: 0.0104 - acc: 0.9971 - val_loss: 0.0743 - val_acc: 0.9863\n",
      "Epoch 49/100\n",
      " - 7s - loss: 0.0065 - acc: 0.9979 - val_loss: 0.0856 - val_acc: 0.9853\n",
      "Epoch 50/100\n",
      " - 8s - loss: 0.0084 - acc: 0.9976 - val_loss: 0.0856 - val_acc: 0.9864\n",
      "Epoch 51/100\n",
      " - 7s - loss: 0.0110 - acc: 0.9968 - val_loss: 0.0905 - val_acc: 0.9835\n",
      "Epoch 52/100\n",
      " - 7s - loss: 0.0115 - acc: 0.9970 - val_loss: 0.0807 - val_acc: 0.9872\n",
      "Epoch 53/100\n",
      " - 8s - loss: 0.0091 - acc: 0.9975 - val_loss: 0.0907 - val_acc: 0.9848\n",
      "Epoch 54/100\n",
      " - 7s - loss: 0.0118 - acc: 0.9970 - val_loss: 0.0882 - val_acc: 0.9842\n",
      "Epoch 55/100\n",
      " - 7s - loss: 0.0087 - acc: 0.9976 - val_loss: 0.0845 - val_acc: 0.9858\n",
      "Epoch 56/100\n",
      " - 8s - loss: 0.0066 - acc: 0.9982 - val_loss: 0.0977 - val_acc: 0.9850\n",
      "Epoch 57/100\n",
      " - 8s - loss: 0.0092 - acc: 0.9972 - val_loss: 0.0922 - val_acc: 0.9856\n",
      "Epoch 58/100\n",
      " - 9s - loss: 0.0092 - acc: 0.9974 - val_loss: 0.0910 - val_acc: 0.9863\n",
      "Epoch 59/100\n",
      " - 8s - loss: 0.0080 - acc: 0.9974 - val_loss: 0.1021 - val_acc: 0.9841\n",
      "Epoch 60/100\n",
      " - 9s - loss: 0.0093 - acc: 0.9976 - val_loss: 0.1211 - val_acc: 0.9832\n",
      "Epoch 61/100\n",
      " - 8s - loss: 0.0111 - acc: 0.9970 - val_loss: 0.0969 - val_acc: 0.9842\n",
      "Epoch 62/100\n",
      " - 7s - loss: 0.0086 - acc: 0.9976 - val_loss: 0.0907 - val_acc: 0.9845\n",
      "Epoch 63/100\n",
      " - 7s - loss: 0.0103 - acc: 0.9977 - val_loss: 0.0991 - val_acc: 0.9843\n",
      "Epoch 64/100\n",
      " - 7s - loss: 0.0096 - acc: 0.9975 - val_loss: 0.0987 - val_acc: 0.9847\n",
      "Epoch 65/100\n",
      " - 7s - loss: 0.0065 - acc: 0.9982 - val_loss: 0.0914 - val_acc: 0.9867\n",
      "Epoch 66/100\n",
      " - 6s - loss: 0.0065 - acc: 0.9980 - val_loss: 0.0914 - val_acc: 0.9857\n",
      "Epoch 67/100\n",
      " - 6s - loss: 0.0092 - acc: 0.9975 - val_loss: 0.0975 - val_acc: 0.9849\n",
      "Epoch 68/100\n",
      " - 9s - loss: 0.0103 - acc: 0.9972 - val_loss: 0.0929 - val_acc: 0.9845\n",
      "Epoch 69/100\n",
      " - 9s - loss: 0.0077 - acc: 0.9980 - val_loss: 0.0929 - val_acc: 0.9853\n",
      "Epoch 70/100\n",
      " - 9s - loss: 0.0084 - acc: 0.9979 - val_loss: 0.0976 - val_acc: 0.9867\n",
      "Epoch 71/100\n",
      " - 8s - loss: 0.0079 - acc: 0.9979 - val_loss: 0.1129 - val_acc: 0.9828\n",
      "Epoch 72/100\n",
      " - 8s - loss: 0.0108 - acc: 0.9976 - val_loss: 0.0913 - val_acc: 0.9854\n",
      "Epoch 73/100\n",
      " - 9s - loss: 0.0080 - acc: 0.9980 - val_loss: 0.0943 - val_acc: 0.9849\n",
      "Epoch 74/100\n",
      " - 7s - loss: 0.0069 - acc: 0.9982 - val_loss: 0.1007 - val_acc: 0.9853\n",
      "Epoch 75/100\n",
      " - 7s - loss: 0.0100 - acc: 0.9974 - val_loss: 0.1125 - val_acc: 0.9840\n",
      "Epoch 76/100\n",
      " - 7s - loss: 0.0108 - acc: 0.9973 - val_loss: 0.0989 - val_acc: 0.9855\n",
      "Epoch 77/100\n",
      " - 7s - loss: 0.0100 - acc: 0.9976 - val_loss: 0.0984 - val_acc: 0.9860\n",
      "Epoch 78/100\n",
      " - 7s - loss: 0.0103 - acc: 0.9979 - val_loss: 0.0989 - val_acc: 0.9852\n",
      "Epoch 79/100\n",
      " - 7s - loss: 0.0074 - acc: 0.9981 - val_loss: 0.0962 - val_acc: 0.9859\n",
      "Epoch 80/100\n",
      " - 6s - loss: 0.0072 - acc: 0.9983 - val_loss: 0.1046 - val_acc: 0.9859\n",
      "Epoch 81/100\n",
      " - 6s - loss: 0.0086 - acc: 0.9978 - val_loss: 0.1151 - val_acc: 0.9833\n",
      "Epoch 82/100\n",
      " - 7s - loss: 0.0096 - acc: 0.9975 - val_loss: 0.0952 - val_acc: 0.9852\n",
      "Epoch 83/100\n",
      " - 7s - loss: 0.0090 - acc: 0.9976 - val_loss: 0.0932 - val_acc: 0.9869\n",
      "Epoch 84/100\n",
      " - 7s - loss: 0.0075 - acc: 0.9980 - val_loss: 0.1118 - val_acc: 0.9854\n",
      "Epoch 85/100\n",
      " - 7s - loss: 0.0073 - acc: 0.9983 - val_loss: 0.1016 - val_acc: 0.9852\n",
      "Epoch 86/100\n",
      " - 6s - loss: 0.0076 - acc: 0.9980 - val_loss: 0.1240 - val_acc: 0.9835\n",
      "Epoch 87/100\n",
      " - 7s - loss: 0.0106 - acc: 0.9974 - val_loss: 0.1101 - val_acc: 0.9854\n",
      "Epoch 88/100\n",
      " - 7s - loss: 0.0065 - acc: 0.9984 - val_loss: 0.1087 - val_acc: 0.9853\n",
      "Epoch 89/100\n",
      " - 6s - loss: 0.0076 - acc: 0.9983 - val_loss: 0.1050 - val_acc: 0.9858\n",
      "Epoch 90/100\n",
      " - 7s - loss: 0.0064 - acc: 0.9984 - val_loss: 0.1092 - val_acc: 0.9856\n",
      "Epoch 91/100\n",
      " - 7s - loss: 0.0084 - acc: 0.9978 - val_loss: 0.1179 - val_acc: 0.9850\n",
      "Epoch 92/100\n",
      " - 7s - loss: 0.0093 - acc: 0.9981 - val_loss: 0.1049 - val_acc: 0.9857\n",
      "Epoch 93/100\n",
      " - 9s - loss: 0.0070 - acc: 0.9984 - val_loss: 0.1102 - val_acc: 0.9847\n",
      "Epoch 94/100\n",
      " - 8s - loss: 0.0092 - acc: 0.9979 - val_loss: 0.1076 - val_acc: 0.9848\n",
      "Epoch 95/100\n",
      " - 7s - loss: 0.0063 - acc: 0.9986 - val_loss: 0.1111 - val_acc: 0.9866\n",
      "Epoch 96/100\n",
      " - 7s - loss: 0.0071 - acc: 0.9983 - val_loss: 0.1232 - val_acc: 0.9840\n"
     ]
    },
    {
     "name": "stdout",
     "output_type": "stream",
     "text": [
      "Epoch 97/100\n",
      " - 7s - loss: 0.0098 - acc: 0.9977 - val_loss: 0.1127 - val_acc: 0.9863\n",
      "Epoch 98/100\n",
      " - 7s - loss: 0.0067 - acc: 0.9982 - val_loss: 0.1083 - val_acc: 0.9855\n",
      "Epoch 99/100\n",
      " - 7s - loss: 0.0088 - acc: 0.9979 - val_loss: 0.1056 - val_acc: 0.9868\n",
      "Epoch 100/100\n",
      " - 7s - loss: 0.0058 - acc: 0.9986 - val_loss: 0.1159 - val_acc: 0.9856\n"
     ]
    }
   ],
   "source": [
    "# Entrenando el modelo y salvando métricas en la historia.\n",
    "history = model.fit(X_train, Y_train,\n",
    "          batch_size=128, epochs=100,\n",
    "          verbose=2,\n",
    "          validation_data=(X_test, Y_test))\n",
    "\n",
    "\n",
    "\n"
   ]
  },
  {
   "cell_type": "code",
   "execution_count": 83,
   "metadata": {},
   "outputs": [
    {
     "name": "stdout",
     "output_type": "stream",
     "text": [
      "Modelo entrenado guardado en /results/keras_mnist.h5 \n"
     ]
    }
   ],
   "source": [
    "# guardando el modelo\n",
    "if not os.path.isdir(save_dir):\n",
    "    os.makedirs(save_dir)\n",
    "model_name = 'keras_mnist.h5'\n",
    "model_path = os.path.join(save_dir, model_name)\n",
    "model.save(model_path)\n",
    "print('Modelo entrenado guardado en %s ' % model_path)"
   ]
  },
  {
   "cell_type": "code",
   "execution_count": 84,
   "metadata": {},
   "outputs": [
    {
     "name": "stdout",
     "output_type": "stream",
     "text": [
      "Prueba de perdida 0.11587596298052595\n",
      "Exactitud de prueba 0.9856\n"
     ]
    }
   ],
   "source": [
    "mnist_model = load_model(model_path )\n",
    "loss_and_metrics = mnist_model.evaluate(X_test, Y_test, verbose=2)\n",
    "\n",
    "print(\"Prueba de perdida\", loss_and_metrics[0])\n",
    "print(\"Exactitud de prueba\", loss_and_metrics[1])"
   ]
  },
  {
   "cell_type": "code",
   "execution_count": 85,
   "metadata": {},
   "outputs": [
    {
     "name": "stdout",
     "output_type": "stream",
     "text": [
      "\n",
      "9856  Clasificado correctamente\n",
      "144  Clasificado incorrectamente\n"
     ]
    },
    {
     "data": {
      "image/png": "[encoded data removed]",
      "text/plain": [
       "<Figure size 504x1008 with 9 Axes>"
      ]
     },
     "metadata": {},
     "output_type": "display_data"
    }
   ],
   "source": [
    "# cargar el modelo y crear predicciones en el conjunto de prueba\n",
    "mnist_model = load_model(model_path)\n",
    "predicted_classes = mnist_model.predict_classes(X_test)\n",
    "\n",
    "# Ver que predijimos correctamente y que no\n",
    "correct_indices = np.nonzero(predicted_classes == y_test)[0]\n",
    "incorrect_indices = np.nonzero(predicted_classes != y_test)[0]\n",
    "print()\n",
    "print(len(correct_indices),\" Clasificado correctamente\")\n",
    "print(len(incorrect_indices),\" Clasificado incorrectamente\")\n",
    "\n",
    "# Adapta el tamaño de la figura para acomodar 18 subparcelas.\n",
    "plt.rcParams['figure.figsize'] = (7,14)\n",
    "\n",
    "figure_evaluation = plt.figure()\n",
    "\n",
    "# trazar 9 predicciones correctas\n",
    "for i, correct in enumerate(correct_indices[:9]):\n",
    "    plt.subplot(6,3,i+1)\n",
    "    plt.imshow(X_test[correct].reshape(28,28), cmap='gray', interpolation='none')\n",
    "    plt.title(\n",
    "      \"Pred: {}, Exitosa: {} \".format(predicted_classes[correct],\n",
    "                                        y_test[correct]))\n",
    "    plt.xticks([])\n",
    "    plt.yticks([])\n",
    "\n"
   ]
  },
  {
   "cell_type": "code",
   "execution_count": null,
   "metadata": {},
   "outputs": [],
   "source": []
  }
 ],
 "metadata": {
  "kernelspec": {
   "display_name": "Python 3",
   "language": "python",
   "name": "python3"
  },
  "language_info": {
   "codemirror_mode": {
    "name": "ipython",
    "version": 3
   },
   "file_extension": ".py",
   "mimetype": "text/x-python",
   "name": "python",
   "nbconvert_exporter": "python",
   "pygments_lexer": "ipython3",
   "version": "3.7.3"
  }
 },
 "nbformat": 4,
 "nbformat_minor": 2
}
